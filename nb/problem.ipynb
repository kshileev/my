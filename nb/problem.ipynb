{
 "cells": [
  {
   "cell_type": "markdown",
   "metadata": {},
   "source": [
    "# Problem"
   ]
  },
  {
   "cell_type": "markdown",
   "metadata": {},
   "source": [
    "You own a paint factory. There are N different colors you can mix, and each color can be prepared \"matte\" or \"glossy\". So, you can make 2N different types of paint. Each of your customers has a set of paint types they like, and they will be satisfied if you have at least one of those types prepared. At most one of the types a customer likes will be a \"matte\". You want to make N batches of paint, so that:\n",
    "\n",
    "* There is exactly one batch for each color of paint, and it is either matte or glossy.\n",
    "* For each customer, you make at least one paint type that they like.\n",
    "* The minimum possible number of batches are matte (since matte is more expensive to make).\n",
    "* Find whether it is possible to satisfy all your customers given these constraints, and if it is, what paint types you should make.\n",
    "\n",
    "If it is possible to satisfy all your customers, there will be only one answer which minimizes the number of matte batches."
   ]
  },
  {
   "cell_type": "markdown",
   "metadata": {},
   "source": [
    "# Input"
   ]
  },
  {
   "cell_type": "markdown",
   "metadata": {},
   "source": [
    "One line containing an integer C, the number of test cases in the input file. For each test case, there will be:\n",
    "\n",
    "* One line containing the integer N, the number of paint colors.\n",
    "* One line containing the integer M, the number of customers.\n",
    "* M lines, one for each customer, each containing:\n",
    "* An integer T >= 1, the number of paint types the customer likes, followed by\n",
    "     - T pairs of integers \"X Y\", one for each type the customer likes, where X is the paint color between 1 and N inclusive, and Y is either 0 to indicate glossy, or 1 to indicated matte. \n",
    "\n",
    "Note that:\n",
    "\n",
    "* No pair will occur more than once for a single customer.\n",
    "* Each customer will have at least one color that they like (T >= 1).\n",
    "* Each customer will like at most one matte color. (At most one pair for each customer has Y = 1).\n",
    "\n",
    "All of these numbers are separated by single spaces."
   ]
  },
  {
   "cell_type": "markdown",
   "metadata": {},
   "source": [
    "# Output"
   ]
  },
  {
   "cell_type": "markdown",
   "metadata": {},
   "source": [
    "C lines, one for each test case in the order they occur in the input file, each containing the string \n",
    "\n",
    "* \"Case #X: \" where X is the number of the test case, starting from 1, followed by:\n",
    "    - The string \"IMPOSSIBLE\", if the customers' preferences cannot be satisfied; OR\n",
    "    - N space-separated integers, one for each color from 1 to N, which are 0 if the corresponding paint should be prepared glossy, and 1 if it should be matte.\n"
   ]
  },
  {
   "cell_type": "markdown",
   "metadata": {},
   "source": [
    "# Limits"
   ]
  },
  {
   "cell_type": "markdown",
   "metadata": {},
   "source": [
    "Small dataset:\n",
    "\n",
    "* C = 100 \n",
    "* 1 <= N <= 10  (number of paints)\n",
    "* 1 <= M <= 100 (number of customers)\n",
    "\n",
    "Large dataset:\n",
    "\n",
    "* C = 5 \n",
    "* 1 <= N <= 2000 \n",
    "* 1 <= M <= 2000\n",
    "\n",
    "The sum of all the T values for the customers in a test case will not exceed 3000."
   ]
  },
  {
   "cell_type": "markdown",
   "metadata": {},
   "source": [
    "# Sample"
   ]
  },
  {
   "cell_type": "markdown",
   "metadata": {},
   "source": [
    "## Input:"
   ]
  },
  {
   "cell_type": "code",
   "execution_count": 418,
   "metadata": {},
   "outputs": [],
   "source": [
    "input_lines = '''2 # number of test samples\n",
    "5 # sample #1 number of colors\n",
    "3 # sample #1 number of customers\n",
    "1 1 1 # sample #1 customer #1 wants 1 type with color #1 to be matte \n",
    "2 1 0 2 0 # sample #1 customer #2 wants 2 types: first with color #1 to be glossy and color #2 to be glossy\n",
    "1 5 0 # sample #1 customer #3 wants 1 type with color #5 to be glossy \n",
    "1 # sample #2 number of colors\n",
    "2 # sample #2 number of customers\n",
    "1 1 0 # sample #2 customer #1 wants 1 type with color #1 to be glossy\n",
    "1 1 1 # sample #2 customer #2 wants 1 type with color #1 to be matte\n",
    "'''"
   ]
  },
  {
   "cell_type": "markdown",
   "metadata": {},
   "source": [
    "## Output:"
   ]
  },
  {
   "cell_type": "markdown",
   "metadata": {},
   "source": [
    "\n",
    "    \n",
    "    Case #1: 1 0 0 0 0   # make color #1 to be matte all others to be glossy \n",
    "    Case #2: IMPOSSIBLE \n",
    "\n",
    "\n",
    "In the first case, you must make color #1 matte, to satisfy the first customer. Every other paint type can be glossy. The second customer is satisfied by getting color #2 glossy, and the third customer is satisfied by getting color #5 glossy.\n",
    "In the second case, there is only one color. One of your customers wants it matte and one wants it glossy. You cannot satisfy them both."
   ]
  },
  {
   "cell_type": "code",
   "execution_count": 419,
   "metadata": {},
   "outputs": [],
   "source": [
    "input_lines = '''5     #0\n",
    "1                      #1 first\n",
    "2                      #2\n",
    "1 1 1                  #3\n",
    "1 1 1                  #4 \n",
    "1                      #5 second\n",
    "2                      #6\n",
    "1 1 0                  #7  \n",
    "1 1 1                  #8 \n",
    "5                      #9  third\n",
    "3                      #10\n",
    "1 1 1                  #11\n",
    "2 1 0 2 0              #12\n",
    "1 5 0                  #13\n",
    "5                      #14 forth \n",
    "5                      #15\n",
    "5 1 0 2 0 3 0 4 0 5 0  #16\n",
    "1 3 1                  #17\n",
    "2 2 0 5 1              #18 \n",
    "1 4 1                  #19 \n",
    "2 1 1 2 0              #20\n",
    "5                      #21 fifth \n",
    "5                      #22\n",
    "5 1 1 2 0 3 0 4 0 5 0  #23 \n",
    "5 1 0 2 1 3 0 4 0 5 0  #24\n",
    "5 1 0 2 0 3 1 4 0 5 0  #25\n",
    "5 1 0 2 0 3 0 4 1 5 0  #26\n",
    "5 1 0 2 0 3 0 4 0 5 1  #27\n",
    "'''\n",
    "if not isinstance(input_lines, list):\n",
    "    input_lines = input_lines.split('\\n')"
   ]
  },
  {
   "cell_type": "markdown",
   "metadata": {},
   "source": [
    "Define helper which reads line and convert it to int if single value in line or a list of integers:"
   ]
  },
  {
   "cell_type": "code",
   "execution_count": 420,
   "metadata": {},
   "outputs": [],
   "source": [
    "def process_line(line):\n",
    "    line = line.split('#')[0].strip() # strip possible comment and empty litterals\n",
    "    try:\n",
    "        return int(line)  # if single value line\n",
    "    except ValueError:\n",
    "        return [int(x) for x in line.split()]"
   ]
  },
  {
   "cell_type": "code",
   "execution_count": 421,
   "metadata": {},
   "outputs": [],
   "source": [
    "import pandas as pd\n",
    "import numpy as np\n",
    "\n",
    "class Customer:\n",
    "    def __init__(self, line): # '3 1 0 2 0 5 1' -> ps.Series(data=[0, 0, 1], index=[1, 2, 5]) takes O(n_paints)\n",
    "        array = process_line(line)\n",
    "        data = []\n",
    "        index = []\n",
    "        for i in range(array[0]):\n",
    "            index.append(array[2*i +1])\n",
    "            data.append(array[2*i + 2])\n",
    "        if sum(data) > 1:\n",
    "            raise ValueError('customer wants more then 1 color in matte')\n",
    "        self.series = pd.Series(data=data, index=index)\n",
    "    \n",
    "class Sample:\n",
    "    def __init__(self, i, n_colors, customer_lines):\n",
    "        self.sample_id = 'Case #{0}: '.format(i)\n",
    "        self.is_impossible = False\n",
    "        data = dict()\n",
    "        for i, line in enumerate(customer_lines, start=1):\n",
    "            customer = Customer(line)\n",
    "            data['cus' + str(i)] = customer.series\n",
    "        idx = range(1, n_colors + 1)\n",
    "        self.data_frame = pd.DataFrame(data=data, index=idx)\n",
    "        self.colors = pd.Series(data=[0] * n_colors, index=idx, name='colors') # initialy try all colors glossy \n",
    "        self.single_color = pd.DataFrame() # will collect here customers who want a single color\n",
    "        self.drop_colors_with_no_customers(self.data_frame)\n",
    "    \n",
    "    @staticmethod\n",
    "    def drop_colors_with_no_customers(data_frame):\n",
    "        \"\"\"Drops all colors which are not requested by any customers.\"\"\"\n",
    "        data_frame.dropna(axis='index', how='all', inplace=True)\n",
    "        return data_frame\n",
    "    \n",
    "    def find_customers_with_single_color(self):\n",
    "        \"\"\"Find all columns with single NaN\"\"\"\n",
    "        a = self.data_frame.count()\n",
    "        a = a[a == 1]\n",
    "        for col in a.index:\n",
    "            self.single_color[col] = self.data_frame[col]\n",
    "            self.data_frame.drop(col, axis='columns', inplace=True)\n",
    "        self.drop_colors_with_no_customers(self.single_color)\n",
    "        self.drop_colors_with_no_customers(self.data_frame) # drop no customers color again \n",
    "        return self.single_color    \n",
    "\n",
    "    def how_to_sutisfy_single_color_customers(self):\n",
    "        for index, row in self.single_color.iterrows():\n",
    "            is_matte_in = 1 in row.values\n",
    "            is_glossy_in = 0 in row.values\n",
    "            if is_matte_in == is_glossy_in:\n",
    "                print(self.sample_id + 'IMPOSSIBLE')\n",
    "                self.is_impossible = True\n",
    "                return\n",
    "            else:\n",
    "                matte_or_glossy = 1 if is_matte_in else 0\n",
    "                self.colors[index] = matte_or_glossy\n",
    "                self.colors.rename_axis({index: str(index) + 'fixed'}, inplace=True)\n",
    "\n",
    "    def how_to_sutisfy_others(self):\n",
    "        \"\"\"At this point we have self.data_frame cleaned up \n",
    "           from colors which are not requested\n",
    "           and customers with single color requriment\n",
    "           self.colors has these single colors marke as xfixed \n",
    "        \"\"\"\n",
    "        if self.is_impossible:  # impossible combination found for customers with single color\n",
    "            return\n",
    "        \n",
    "                    \n",
    "    def execute(self):\n",
    "        self.find_customers_with_single_color()\n",
    "        self.how_to_sutisfy_single_color_customers()\n",
    "        self.how_to_sutisfy_others()\n",
    "        return self.colors"
   ]
  },
  {
   "cell_type": "markdown",
   "metadata": {},
   "source": [
    "Now run actual code."
   ]
  },
  {
   "cell_type": "code",
   "execution_count": 422,
   "metadata": {},
   "outputs": [],
   "source": [
    "n_samples = process_line(input_lines[0])\n",
    "samples = []\n",
    "next_sample_shift = 1\n",
    "for i in range(n_samples):\n",
    "    n_colors = process_line(input_lines[next_sample_shift])\n",
    "    n_customers = process_line(input_lines[next_sample_shift + 1])\n",
    "    customer_lines = input_lines[ next_sample_shift + 2 : next_sample_shift + 2 + n_customers ]\n",
    "    samples.append(Sample(i, n_colors, customer_lines))\n",
    "    next_sample_shift += n_customers + 2"
   ]
  },
  {
   "cell_type": "code",
   "execution_count": 423,
   "metadata": {},
   "outputs": [],
   "source": [
    "s1 = samples[0]\n",
    "s2 = samples[1]\n",
    "s3 = samples[2]\n",
    "s4 = samples[3]\n",
    "s5 = samples[4]"
   ]
  },
  {
   "cell_type": "code",
   "execution_count": 428,
   "metadata": {},
   "outputs": [
    {
     "data": {
      "text/html": [
       "<div>\n",
       "<table border=\"1\" class=\"dataframe\">\n",
       "  <thead>\n",
       "    <tr style=\"text-align: right;\">\n",
       "      <th></th>\n",
       "      <th>cus1</th>\n",
       "      <th>cus2</th>\n",
       "      <th>cus3</th>\n",
       "      <th>cus4</th>\n",
       "      <th>cus5</th>\n",
       "    </tr>\n",
       "  </thead>\n",
       "  <tbody>\n",
       "    <tr>\n",
       "      <th>1</th>\n",
       "      <td>1</td>\n",
       "      <td>0</td>\n",
       "      <td>0</td>\n",
       "      <td>0</td>\n",
       "      <td>0</td>\n",
       "    </tr>\n",
       "    <tr>\n",
       "      <th>2</th>\n",
       "      <td>0</td>\n",
       "      <td>1</td>\n",
       "      <td>0</td>\n",
       "      <td>0</td>\n",
       "      <td>0</td>\n",
       "    </tr>\n",
       "    <tr>\n",
       "      <th>3</th>\n",
       "      <td>0</td>\n",
       "      <td>0</td>\n",
       "      <td>1</td>\n",
       "      <td>0</td>\n",
       "      <td>0</td>\n",
       "    </tr>\n",
       "    <tr>\n",
       "      <th>4</th>\n",
       "      <td>0</td>\n",
       "      <td>0</td>\n",
       "      <td>0</td>\n",
       "      <td>1</td>\n",
       "      <td>0</td>\n",
       "    </tr>\n",
       "    <tr>\n",
       "      <th>5</th>\n",
       "      <td>0</td>\n",
       "      <td>0</td>\n",
       "      <td>0</td>\n",
       "      <td>0</td>\n",
       "      <td>1</td>\n",
       "    </tr>\n",
       "  </tbody>\n",
       "</table>\n",
       "</div>"
      ]
     },
     "metadata": {},
     "output_type": "execute_result"
    }
   ],
   "source": [
    "s5.data_frame"
   ]
  },
  {
   "cell_type": "code",
   "execution_count": 431,
   "metadata": {},
   "outputs": [
    {
     "data": {
      "text/plain": [
       "1         0\n",
       "2         0\n",
       "3fixed    1\n",
       "4fixed    1\n",
       "5         0\n",
       "Name: colors, dtype: int64"
      ]
     },
     "execution_count": 431,
     "metadata": {},
     "output_type": "execute_result"
    }
   ],
   "source": [
    "s4.execute()"
   ]
  },
  {
   "cell_type": "code",
   "execution_count": 432,
   "metadata": {},
   "outputs": [
    {
     "data": {
      "text/html": [
       "<div>\n",
       "<table border=\"1\" class=\"dataframe\">\n",
       "  <thead>\n",
       "    <tr style=\"text-align: right;\">\n",
       "      <th></th>\n",
       "      <th>cus1</th>\n",
       "      <th>cus3</th>\n",
       "      <th>cus5</th>\n",
       "    </tr>\n",
       "  </thead>\n",
       "  <tbody>\n",
       "    <tr>\n",
       "      <th>1</th>\n",
       "      <td>0</td>\n",
       "      <td>NaN</td>\n",
       "      <td>1</td>\n",
       "    </tr>\n",
       "    <tr>\n",
       "      <th>2</th>\n",
       "      <td>0</td>\n",
       "      <td>0</td>\n",
       "      <td>0</td>\n",
       "    </tr>\n",
       "    <tr>\n",
       "      <th>3</th>\n",
       "      <td>0</td>\n",
       "      <td>NaN</td>\n",
       "      <td>NaN</td>\n",
       "    </tr>\n",
       "    <tr>\n",
       "      <th>4</th>\n",
       "      <td>0</td>\n",
       "      <td>NaN</td>\n",
       "      <td>NaN</td>\n",
       "    </tr>\n",
       "    <tr>\n",
       "      <th>5</th>\n",
       "      <td>0</td>\n",
       "      <td>1</td>\n",
       "      <td>NaN</td>\n",
       "    </tr>\n",
       "  </tbody>\n",
       "</table>\n",
       "</div>"
      ]
     },
     "metadata": {},
     "output_type": "execute_result"
    }
   ],
   "source": [
    "s4.data_frame"
   ]
  },
  {
   "cell_type": "code",
   "execution_count": 435,
   "metadata": {},
   "outputs": [
    {
     "ename": "ImportError",
     "evalue": "No module named 'ortools'",
     "traceback": [
      "\u001b[1;31m---------------------------------------------------------------------------\u001b[0m",
      "\u001b[1;31mImportError\u001b[0m                               Traceback (most recent call last)",
      "\u001b[1;32m<ipython-input-435-807166ed1a41>\u001b[0m in \u001b[0;36m<module>\u001b[1;34m()\u001b[0m\n\u001b[1;32m----> 1\u001b[1;33m \u001b[1;32mimport\u001b[0m \u001b[0mortools\u001b[0m\u001b[1;33m\u001b[0m\u001b[0m\n\u001b[0m",
      "\u001b[1;31mImportError\u001b[0m: No module named 'ortools'"
     ],
     "output_type": "error"
    }
   ],
   "source": [
    "import ortools"
   ]
  },
  {
   "cell_type": "code",
   "execution_count": null,
   "metadata": {},
   "outputs": [],
   "source": [
    ""
   ]
  }
 ],
 "metadata": {
  "kernelspec": {
   "display_name": "Python 3",
   "language": "python",
   "name": "python3"
  },
  "language_info": {
   "codemirror_mode": {
    "name": "ipython",
    "version": 3.0
   },
   "file_extension": ".py",
   "mimetype": "text/x-python",
   "name": "python",
   "nbconvert_exporter": "python",
   "pygments_lexer": "ipython3",
   "version": "3.5.1"
  }
 },
 "nbformat": 4,
 "nbformat_minor": 0
}