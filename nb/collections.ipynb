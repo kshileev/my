{
 "cells": [
  {
   "cell_type": "markdown",
   "metadata": {},
   "source": [
    "## all types"
   ]
  },
  {
   "cell_type": "code",
   "execution_count": 15,
   "metadata": {},
   "outputs": [
    {
     "name": "stdout",
     "output_type": "stream",
     "text": [
      "<class 'dict'> <class 'list'> <class 'set'> <class 'frozenset'> <class 'tuple'>\n"
     ]
    }
   ],
   "source": [
    "d1 = {1: 1, 2: 2}\n",
    "l1 = [1, 2]\n",
    "s1 = {1, 2}\n",
    "f1 = frozenset([1, 2])\n",
    "t1 = (1, 2)\n",
    "print(type(d1), type(l1), type(s1), type(f1), type(t1))"
   ]
  },
  {
   "cell_type": "markdown",
   "metadata": {},
   "source": [
    "## dict"
   ]
  },
  {
   "cell_type": "code",
   "execution_count": 13,
   "metadata": {},
   "outputs": [
    {
     "name": "stdout",
     "output_type": "stream",
     "text": [
      "<class 'dict'> <class 'dict'> True 3\n"
     ]
    }
   ],
   "source": [
    "d1 = dict(one=1, two=2, three=3)\n",
    "d2 = {'one': 1, 'two': 2, 'three': 3}\n",
    "d3 = dict(d2)\n",
    "d4 = dict([('two', 2), ('one', 1), ('three', 3)])\n",
    "d5 = dict(zip(['one', 'two', 'three'], [1, 2, 3]))\n",
    "print(type(d1), d1==d2==d3==d4==d5, len(d5))"
   ]
  },
  {
   "cell_type": "markdown",
   "metadata": {},
   "source": [
    "## list"
   ]
  },
  {
   "cell_type": "code",
   "execution_count": null,
   "metadata": {},
   "outputs": [],
   "source": [
    "l1 = []"
   ]
  },
  {
   "cell_type": "markdown",
   "metadata": {},
   "source": [
    "## set"
   ]
  },
  {
   "cell_type": "code",
   "execution_count": 29,
   "metadata": {},
   "outputs": [
    {
     "name": "stdout",
     "output_type": "stream",
     "text": [
      "<class 'set'> 3 True {1, 2, 3}\n",
      "b is subset of b: True\n",
      "b is not proper subset of b False\n",
      "b is proper subset of c True\n"
     ]
    },
    {
     "ename": "TypeError",
     "evalue": "unsupported operand type(s) for +: 'set' and 'set'",
     "output_type": "error",
     "traceback": [
      "\u001b[0;31m---------------------------------------------------------------------------\u001b[0m",
      "\u001b[0;31mTypeError\u001b[0m                                 Traceback (most recent call last)",
      "\u001b[0;32m<ipython-input-29-63a0103f5c5f>\u001b[0m in \u001b[0;36m<module>\u001b[0;34m()\u001b[0m\n\u001b[1;32m     10\u001b[0m \u001b[0mprint\u001b[0m\u001b[0;34m(\u001b[0m\u001b[0;34mf'b is not proper subset of b {b < b}'\u001b[0m\u001b[0;34m)\u001b[0m\u001b[0;34m\u001b[0m\u001b[0;34m\u001b[0m\u001b[0m\n\u001b[1;32m     11\u001b[0m \u001b[0mprint\u001b[0m\u001b[0;34m(\u001b[0m\u001b[0;34mf'b is proper subset of c {b < c}'\u001b[0m\u001b[0;34m)\u001b[0m\u001b[0;34m\u001b[0m\u001b[0;34m\u001b[0m\u001b[0m\n\u001b[0;32m---> 12\u001b[0;31m \u001b[0mprint\u001b[0m\u001b[0;34m(\u001b[0m\u001b[0;34mf'a + b is c {a + b == c}'\u001b[0m\u001b[0;34m)\u001b[0m\u001b[0;34m\u001b[0m\u001b[0;34m\u001b[0m\u001b[0m\n\u001b[0m",
      "\u001b[0;31mTypeError\u001b[0m: unsupported operand type(s) for +: 'set' and 'set'"
     ]
    }
   ],
   "source": [
    "s1 = {1, 2, 3}\n",
    "s2 = set([1, 2, 3])\n",
    "s3 = set([1, 2, 3, 3])\n",
    "s4 = {1, 2, 3, 3}\n",
    "print(type(s1), len(s1), s1==s2==s3==s4, s4)\n",
    "a = set(range(1, 5))\n",
    "b = set(range(5, 11))\n",
    "c = set(range(1, 11))\n",
    "print(f'b is subset of b: {b <= b}')\n",
    "print(f'b is not proper subset of b {b < b}')\n",
    "print(f'b is proper subset of c {b < c}')\n",
    "print(f'a + b is c {a + b == c}')"
   ]
  },
  {
   "cell_type": "markdown",
   "metadata": {},
   "source": [
    "## frozenset"
   ]
  },
  {
   "cell_type": "code",
   "execution_count": 21,
   "metadata": {},
   "outputs": [
    {
     "name": "stdout",
     "output_type": "stream",
     "text": [
      "<class 'frozenset'> 3 True\n"
     ]
    }
   ],
   "source": [
    "f1 = frozenset([1, 2, 3])\n",
    "f2 = frozenset([1, 2, 3, 3])\n",
    "print(type(f1), len(f1), f1==f2)"
   ]
  },
  {
   "cell_type": "markdown",
   "metadata": {},
   "source": [
    "## tuple"
   ]
  }
 ],
 "metadata": {
  "kernelspec": {
   "display_name": "Python 3",
   "language": "python",
   "name": "python3"
  },
  "language_info": {
   "codemirror_mode": {
    "name": "ipython",
    "version": 3
   },
   "file_extension": ".py",
   "mimetype": "text/x-python",
   "name": "python",
   "nbconvert_exporter": "python",
   "pygments_lexer": "ipython3",
   "version": "3.6.7"
  }
 },
 "nbformat": 4,
 "nbformat_minor": 1
}
