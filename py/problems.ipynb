{
 "cells": [
  {
   "cell_type": "markdown",
   "metadata": {},
   "source": [
    "Suppose we have ambiguous encoder over 10th line:\n",
    "* 'a' => 0\n",
    "* 'b' => 1\n",
    "* 'c' => 2\n",
    "* 'd' => 3\n",
    "* 'e' => 4\n",
    "* 'f' => 5\n",
    "* 'g' => 6\n",
    "* 'h' => 7\n",
    "* 'i' => 8\n",
    "* 'j' => 9\n",
    "* 'k' => 10\n",
    "* 'l' => 11\n",
    "* ...\n",
    "* 'z' => 25\n",
    "\n",
    "As example we encode \"aba\" to 0 1 0 then in decoding since there is no separation between digits we can decode\n",
    "it back either \n",
    "* as \"aba\", interpreting digits like 0, 1, 0\n",
    "* or as \"ak\", interpreting digits like 0, 10 \n",
    "\n",
    "so array [0, 1, 0] gives 2 possible decodingswhile array [1, 1, 1, 1] gives 5 possibilities:\n",
    "* b b b b\n",
    "*  l b b \n",
    "*  b l b\n",
    "* b b l\n",
    "* l l\n",
    "\n",
    "one need to process an array of digits [0..9] of arbitrary length and return a number of possible decondings"
   ]
  },
  {
   "cell_type": "code",
   "execution_count": 10,
   "metadata": {},
   "outputs": [],
   "source": [
    "import string\n",
    "alphabet = {x[0]: x[1] for x in enumerate(string.ascii_lowercase)}"
   ]
  },
  {
   "cell_type": "code",
   "execution_count": 17,
   "metadata": {},
   "outputs": [
    {
     "name": "stdout",
     "output_type": "stream",
     "text": [
      "b b\n",
      "11\n"
     ]
    },
    {
     "data": {
      "text/plain": [
       "2"
      ]
     },
     "execution_count": 17,
     "metadata": {},
     "output_type": "execute_result"
    }
   ],
   "source": [
    "def decode(enc):\n",
    "    if not enc:\n",
    "        return 0\n",
    "    elif len(enc) == 1:\n",
    "        print(alphabet[enc[0]])\n",
    "        return 1\n",
    "    elif len(enc) == 2:\n",
    "        print(alphabet[enc[0]], alphabet[enc[1]])\n",
    "        second_variant = 10 * enc[0] + enc[1]\n",
    "        if second_variant <= 25:\n",
    "            print(second_variant)\n",
    "            return 2\n",
    "        else:\n",
    "            return 1\n",
    "    else:\n",
    "        return \n",
    "decode([1, 1])"
   ]
  },
  {
   "cell_type": "code",
   "execution_count": null,
   "metadata": {},
   "outputs": [],
   "source": []
  }
 ],
 "metadata": {
  "kernelspec": {
   "display_name": "Python 3",
   "language": "python",
   "name": "python3"
  },
  "language_info": {
   "codemirror_mode": {
    "name": "ipython",
    "version": 3
   },
   "file_extension": ".py",
   "mimetype": "text/x-python",
   "name": "python",
   "nbconvert_exporter": "python",
   "pygments_lexer": "ipython3",
   "version": "3.6.7"
  }
 },
 "nbformat": 4,
 "nbformat_minor": 2
}
