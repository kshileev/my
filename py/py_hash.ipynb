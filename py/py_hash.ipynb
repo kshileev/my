{
 "cells": [
  {
   "cell_type": "code",
   "execution_count": 52,
   "metadata": {},
   "outputs": [],
   "source": [
    "from netaddr import IPNetwork\n",
    "\n",
    "class ReqNet(IPNetwork):\n",
    "    def __init__(self, name, cidr):\n",
    "        super().__init__(cidr)\n",
    "        self.name = name\n",
    "    def __hash__(self):\n",
    "        return hash(f'{self.name} {self.cidr}')\n",
    "    \n",
    "class CloudNet(IPNetwork):\n",
    "    def __init__(self, name, cidr, os_id):\n",
    "        super().__init__(cidr)\n",
    "        self.name = name\n",
    "        self.os_id = os_id\n",
    "    def __hash__(self):\n",
    "        return f'{self.name} {self.cidr}'.__hash__()\n"
   ]
  },
  {
   "cell_type": "code",
   "execution_count": 53,
   "metadata": {},
   "outputs": [
    {
     "data": {
      "text/plain": [
       "(-1600856847872764080, -1600856847872764080, {ReqNet('1.0.0.1/25')})"
      ]
     },
     "execution_count": 53,
     "metadata": {},
     "output_type": "execute_result"
    }
   ],
   "source": [
    "n1, n2 = ReqNet('n1', '1.0.0.1/25'), CloudNet('n1', '1.0.0.1/25', 'os_id1')\n",
    "n1.__hash__(), n2.__hash__() , {n1, n2}"
   ]
  },
  {
   "cell_type": "code",
   "execution_count": null,
   "metadata": {},
   "outputs": [],
   "source": []
  }
 ],
 "metadata": {
  "kernelspec": {
   "display_name": "Python 3",
   "language": "python",
   "name": "python3"
  },
  "language_info": {
   "codemirror_mode": {
    "name": "ipython",
    "version": 3
   },
   "file_extension": ".py",
   "mimetype": "text/x-python",
   "name": "python",
   "nbconvert_exporter": "python",
   "pygments_lexer": "ipython3",
   "version": "3.6.7"
  }
 },
 "nbformat": 4,
 "nbformat_minor": 2
}
