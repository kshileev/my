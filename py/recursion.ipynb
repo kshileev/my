{
 "cells": [
  {
   "cell_type": "code",
   "execution_count": 22,
   "metadata": {},
   "outputs": [],
   "source": [
    "n_counter_for = 0\n",
    "def fib_recursive(n):\n",
    "    # T(n) = T(n-2) + T(n-1) , T(0) = 0,  T(1) = 1\n",
    "    if n == 0:\n",
    "        return 0\n",
    "    elif n == 1:\n",
    "        return 1\n",
    "    else:\n",
    "        return fib_recursive(n-2) + fib_recursive(n-1)\n",
    "\n",
    "def fib_cycle(n):\n",
    "    # T(n) = T(n-2) + T(n-1) , T(0) = 0,  T(1) = 1\n",
    "    if n == 0:\n",
    "        return 0\n",
    "    elif n == 1:\n",
    "        return 1\n",
    "    else:\n",
    "        tn2 = 0\n",
    "        tn1 = 1\n",
    "        tn = 1\n",
    "        for i in range(2, n+1):\n",
    "            tn = tn1 + tn2\n",
    "            tn2 = tn1\n",
    "            tn1 = tn\n",
    "        return tn"
   ]
  },
  {
   "cell_type": "code",
   "execution_count": 23,
   "metadata": {},
   "outputs": [
    {
     "data": {
      "text/plain": [
       "(True, 0)"
      ]
     },
     "execution_count": 23,
     "metadata": {},
     "output_type": "execute_result"
    }
   ],
   "source": [
    "fib_recursive(10) == 55 == fib_cycle(10), n_counter_for"
   ]
  },
  {
   "cell_type": "code",
   "execution_count": null,
   "metadata": {},
   "outputs": [],
   "source": [
    "def gen_rec(n)\n",
    "    "
   ]
  }
 ],
 "metadata": {
  "kernelspec": {
   "display_name": "Python 3",
   "language": "python",
   "name": "python3"
  },
  "language_info": {
   "codemirror_mode": {
    "name": "ipython",
    "version": 3
   },
   "file_extension": ".py",
   "mimetype": "text/x-python",
   "name": "python",
   "nbconvert_exporter": "python",
   "pygments_lexer": "ipython3",
   "version": "3.6.7"
  }
 },
 "nbformat": 4,
 "nbformat_minor": 2
}
